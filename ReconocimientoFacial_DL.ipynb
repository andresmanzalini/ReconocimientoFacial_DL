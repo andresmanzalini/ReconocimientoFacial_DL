{
 "cells": [
  {
   "cell_type": "markdown",
   "metadata": {},
   "source": [
    "# Reconocimiento Facial con Deep Learning\n",
    "\n",
    "\n",
    "El proyecto consiste en implementar un proyecto para el reconocimiento facial.\n",
    "\n",
    "Para lograrlo, se consideran distintas arquitecturas de redes neuronales para procesamiento de imagenes, junto con el modelo preentrenado dlib , *shape_predictor_68_face_landmarks.dat*\n",
    "\n",
    "Utiliza los modelos preentrenados disponible en Keras VGG16 e Inception. \n",
    "\n",
    "Los mejores resultados los Clasifica con el modelo VGG16 afinado. "
   ]
  },
  {
   "cell_type": "markdown",
   "metadata": {},
   "source": [
    "## Dataset"
   ]
  },
  {
   "cell_type": "markdown",
   "metadata": {},
   "source": [
    "Es posible hacer reconocimiento facial de un dataset publico o generar un dataset propio.\n",
    "\n",
    "\n",
    "En este caso vamos a generar un dataset personal y hacer reconocimiento facial al grupo familiar.\n",
    "\n",
    "\n",
    "Para personalizar el problema es necesario crear una carpeta que contenga el dataset con las personas y rostros a identificar. \n",
    "\n",
    "Lo hacemos ejecutando la funcion *detectarProcesar_cara.py ID* , usando como parametro la identificacion de la persona.\n",
    "\n",
    "Esta funcion lee las imagenes (del disco o captadas por la camara web) y aplica proprocesamiento. Recorta y alinea la cara, dejando la imagenes listas para entrenar los modelos.\n",
    "\n",
    "\n",
    "Para el correcto funcionamiento es necesaria la libreria DLIB con el modelo preentrenado shape_predictor_68_face_landamarks.dat, disponible en https://github.com/davisking/dlib-models\n",
    "Este modelo fue entrenado con las referencias faciales de muchas personas.\n",
    "\n"
   ]
  },
  {
   "cell_type": "markdown",
   "metadata": {},
   "source": [
    "## Procesamiento de imagenes"
   ]
  },
  {
   "cell_type": "markdown",
   "metadata": {},
   "source": [
    "Las imagenes son procesadas por openCV, en blanco y negro para trabajar en una sola dimension de colores.\n",
    "\n",
    "openCV permite recolectar, recortar y alinear las imagenes, mientras que el modelo 68_landmarks.dat identifica los rasgos faciales. "
   ]
  },
  {
   "cell_type": "code",
   "execution_count": 1,
   "metadata": {},
   "outputs": [],
   "source": [
    "import numpy as np\n",
    "import dlib\n",
    "import cv2\n",
    "import os\n",
    "import time\n",
    "import sys"
   ]
  },
  {
   "cell_type": "code",
   "execution_count": 2,
   "metadata": {},
   "outputs": [],
   "source": [
    "DATASET = '/home/andres/Documentos/IA/Datasets/Caras/Familia/'\n",
    "\n",
    "FORMATO = '.jpg' \n",
    "\n",
    "#DEFAULT_SIZE = (224,224,3) \n",
    "DEFAULT_SIZE = (224,224,1) \n"
   ]
  },
  {
   "cell_type": "code",
   "execution_count": 3,
   "metadata": {},
   "outputs": [],
   "source": [
    "data_path_cv2 = cv2.__path__[0]+'/data/'\n",
    "haar_type = 'haarcascade_frontalface_default.xml'\n",
    "\n",
    "video = cv2.VideoCapture(0)\n",
    "face_cascada = cv2.CascadeClassifier(data_path_cv2+haar_type)\n",
    "\n",
    "\n",
    "# DLIB\n",
    "path_dlibModel = os.path.dirname(os.getcwd())\n",
    "predictor_model = 'shape_predictor_68_face_landmarks.dat'\n",
    "\n",
    "land_detector = dlib.get_frontal_face_detector()\n",
    "predictor = dlib.shape_predictor(path_dlibModel+'/'+predictor_model)\n",
    "\n"
   ]
  },
  {
   "cell_type": "code",
   "execution_count": 4,
   "metadata": {},
   "outputs": [],
   "source": [
    "#modularizar!\n",
    "\n",
    "cont = 0\n",
    "seguir = True\n",
    "\n",
    "while seguir:\n",
    "    ret, frame = video.read()\n",
    "    \n",
    "    frameRGB = cv2.cvtColor(frame, cv2.COLOR_BGR2RGB) #sobreescribo formato de salida de GBR a RGB \n",
    "    gris = cv2.cvtColor(frameRGB, cv2.COLOR_RGB2GRAY)\n",
    "    \n",
    "    key = cv2.waitKey(1)\n",
    "   \n",
    "    caras_dlib = land_detector(gris,1)\n",
    "\n",
    "    for cara in caras_dlib:\n",
    "        x = cara.left()\n",
    "        y = cara.top()\n",
    "        w = cara.right() - x\n",
    "        h = cara.bottom() - y\n",
    "        \n",
    "        landmarks = predictor(gris, cara)\n",
    "\n",
    "        face_aligned = dlib.get_face_chip(frame, landmarks, DEFAULT_SIZE[0])\n",
    "        \n",
    "        face_aligned_grey = cv2.cvtColor(face_aligned, cv2.COLOR_RGB2GRAY)\n",
    "        \n",
    "        face_aligned_32 = np.asarray(face_aligned, dtype='float32') \n",
    "        im_expand = np.expand_dims(face_aligned_32, axis=0) \n",
    "        im_normalizada = (im_expand - np.min(im_expand)) / (np.max(im_expand) - np.min(im_expand))\n",
    "            \n",
    "        cv2.rectangle(frame, (x,y), (cara.right(),cara.bottom()), (0,255,0), 2)\n",
    "        #cv2.rectangle(face_aligned, (x,y), (cara.right(),cara.bottom()), (0,255,0), 2)\n",
    "        #cv2.rectangle(face_aligned_grey, (x,y), (cara.right(),cara.bottom()), (0,255,0), 2)\n",
    "\n",
    "        \n",
    "        for n in range(0,68):\n",
    "            x = landmarks.part(n).x\n",
    "            y = landmarks.part(n).y\n",
    "            cv2.circle(frame, (x,y), 2, (255,0,0))\n",
    "            #cv2.circle(face_aligned, (x,y), 2, (255,0,0))\n",
    "            #cv2.circle(face_aligned_grey, (x,y), 2, (255,0,0))\n",
    "        \n",
    "            \n",
    "        if key == ord('s'):\n",
    "            path_nueva_foto = DATASET+ETIQUETA+'/'+ETIQUETA+time.strftime('_%d-%m-%Y_%H-%M-%S')\n",
    "            nombre_foto = ETIQUETA+time.strftime('_%d-%m-%Y_%H-%M-%S')\n",
    "            print(\"Sacaste nueva foto dlib \", nombre_foto)\n",
    "\n",
    "            cv2.imwrite(path_nueva_foto+FORMATO, face_aligned_grey)\n",
    "            \n",
    "            cont += 1\n",
    "\n",
    "        cv2.imshow('Cara alineada', frame)\n",
    "        #cv2.imshow('Cara alineada', face_aligned)\n",
    "        #cv2.imshow('Cara alineada', face_aligned_grey)\n",
    "\n",
    "    \n",
    "    if key == ord ('q'):\n",
    "        seguir=False\n",
    "        \n",
    "video.release()\n",
    "cv2.destroyAllWindows()\n"
   ]
  },
  {
   "cell_type": "code",
   "execution_count": 5,
   "metadata": {},
   "outputs": [],
   "source": [
    "        \n",
    "video.release()\n",
    "cv2.destroyAllWindows()"
   ]
  },
  {
   "cell_type": "markdown",
   "metadata": {},
   "source": [
    "# Deep Learning"
   ]
  },
  {
   "cell_type": "markdown",
   "metadata": {},
   "source": [
    "### Las decisiones de implementacion fueron las siguientes:\n",
    "\n",
    "#### . Consumo de imagenes del dataset : al principio consumia todo el dataset de una, pero saturaba la RAM. Para solucionarlo se decidio consumir las imagenes con un Generador de Imagenes, recolectando de a batches las imagenes de prueba sin arruinar la RAM;\n",
    "\n",
    "#### . Definicion del modelo y fine tuning aplicado a rostros\n",
    "\n",
    "#### . Hiperparametros, compilacion y entrenamiento del modelo\n",
    "\n",
    "#### . Test del modelo\n",
    "\n",
    "#### . Predicciones\n"
   ]
  },
  {
   "cell_type": "code",
   "execution_count": 6,
   "metadata": {},
   "outputs": [],
   "source": [
    "import keras"
   ]
  },
  {
   "cell_type": "code",
   "execution_count": 7,
   "metadata": {},
   "outputs": [],
   "source": [
    "from keras.layers import Input,Conv2D, MaxPooling2D, Dense, Flatten, Dropout, BatchNormalization, Lambda\n",
    "from keras.models import Model, Sequential\n",
    "from keras.applications.vgg16 import VGG16\n",
    "from keras import regularizers\n",
    "from keras.callbacks import EarlyStopping\n",
    "\n",
    "\n",
    "import PIL\n",
    "import cv2\n",
    "import numpy as np\n",
    "import matplotlib.pyplot as plt\n",
    "import dlib\n",
    "import time\n",
    "import os"
   ]
  },
  {
   "cell_type": "markdown",
   "metadata": {},
   "source": [
    "### Generador de imagenes\n",
    "\n",
    "Utilizo el generador de batches de imagenes provisto por Keras , para cargar imagenes de a batches de forma mas simple y robusta.\n",
    "\n",
    "De lo contrario, cargando todo el dataset de una, satura la RAM\n"
   ]
  },
  {
   "cell_type": "code",
   "execution_count": 8,
   "metadata": {},
   "outputs": [],
   "source": [
    "from keras.preprocessing.image import ImageDataGenerator"
   ]
  },
  {
   "cell_type": "code",
   "execution_count": 9,
   "metadata": {},
   "outputs": [
    {
     "name": "stdout",
     "output_type": "stream",
     "text": [
      "Found 459 images belonging to 5 classes.\n",
      "Found 151 images belonging to 5 classes.\n"
     ]
    }
   ],
   "source": [
    "generador = ImageDataGenerator(validation_split=0.25,\n",
    "                               rescale=1./255,\n",
    "                               shear_range = 0.2,\n",
    "                               zoom_range=0.2,\n",
    "                               horizontal_flip=True)\n",
    "\n",
    "#dir_dataset = '/Users/andresmanzalini/Documents/Datasets/Caras/Familia'\n",
    "dir_dataset = '/home/andres/Documentos/IA/Datasets/Caras/Familia'\n",
    "\n",
    "\n",
    "training_generator = generador.flow_from_directory(dir_dataset,\n",
    "                                                   target_size = (224,224),\n",
    "                                                   batch_size=8,\n",
    "                                                   class_mode='categorical',\n",
    "                                                   subset='training')\n",
    "\n",
    "validation_generator = generador.flow_from_directory(dir_dataset,\n",
    "                                                     target_size = (224,224),\n",
    "                                                     batch_size=8,\n",
    "                                                     class_mode='categorical',\n",
    "                                                     subset='validation')"
   ]
  },
  {
   "cell_type": "code",
   "execution_count": 10,
   "metadata": {},
   "outputs": [
    {
     "data": {
      "text/plain": [
       "5"
      ]
     },
     "execution_count": 10,
     "metadata": {},
     "output_type": "execute_result"
    }
   ],
   "source": [
    "etiquetas = training_generator.class_indices\n",
    "cant_ids = training_generator.num_classes\n",
    "cant_ids"
   ]
  },
  {
   "cell_type": "code",
   "execution_count": 11,
   "metadata": {},
   "outputs": [
    {
     "data": {
      "text/plain": [
       "['Andres', 'Lu', 'Ma', 'Martin', 'Paula']"
      ]
     },
     "execution_count": 11,
     "metadata": {},
     "output_type": "execute_result"
    }
   ],
   "source": [
    "tags = list(etiquetas.keys()) \n",
    "tags"
   ]
  },
  {
   "cell_type": "markdown",
   "metadata": {},
   "source": [
    "## Modelo VGG16"
   ]
  },
  {
   "cell_type": "code",
   "execution_count": 12,
   "metadata": {},
   "outputs": [],
   "source": [
    "from keras.applications.vgg16 import preprocess_input\n",
    "\n",
    "\n",
    "default_size=(224,224,3)\n",
    "#default_size=(224,224,1)\n",
    "\n",
    "\n",
    "# entrenar con imagenes blanco y negro -> 224, 224, 1"
   ]
  },
  {
   "cell_type": "code",
   "execution_count": 13,
   "metadata": {},
   "outputs": [
    {
     "name": "stdout",
     "output_type": "stream",
     "text": [
      "Model: \"vgg16\"\n",
      "_________________________________________________________________\n",
      "Layer (type)                 Output Shape              Param #   \n",
      "=================================================================\n",
      "input_1 (InputLayer)         [(None, 224, 224, 3)]     0         \n",
      "_________________________________________________________________\n",
      "block1_conv1 (Conv2D)        (None, 224, 224, 64)      1792      \n",
      "_________________________________________________________________\n",
      "block1_conv2 (Conv2D)        (None, 224, 224, 64)      36928     \n",
      "_________________________________________________________________\n",
      "block1_pool (MaxPooling2D)   (None, 112, 112, 64)      0         \n",
      "_________________________________________________________________\n",
      "block2_conv1 (Conv2D)        (None, 112, 112, 128)     73856     \n",
      "_________________________________________________________________\n",
      "block2_conv2 (Conv2D)        (None, 112, 112, 128)     147584    \n",
      "_________________________________________________________________\n",
      "block2_pool (MaxPooling2D)   (None, 56, 56, 128)       0         \n",
      "_________________________________________________________________\n",
      "block3_conv1 (Conv2D)        (None, 56, 56, 256)       295168    \n",
      "_________________________________________________________________\n",
      "block3_conv2 (Conv2D)        (None, 56, 56, 256)       590080    \n",
      "_________________________________________________________________\n",
      "block3_conv3 (Conv2D)        (None, 56, 56, 256)       590080    \n",
      "_________________________________________________________________\n",
      "block3_pool (MaxPooling2D)   (None, 28, 28, 256)       0         \n",
      "_________________________________________________________________\n",
      "block4_conv1 (Conv2D)        (None, 28, 28, 512)       1180160   \n",
      "_________________________________________________________________\n",
      "block4_conv2 (Conv2D)        (None, 28, 28, 512)       2359808   \n",
      "_________________________________________________________________\n",
      "block4_conv3 (Conv2D)        (None, 28, 28, 512)       2359808   \n",
      "_________________________________________________________________\n",
      "block4_pool (MaxPooling2D)   (None, 14, 14, 512)       0         \n",
      "_________________________________________________________________\n",
      "block5_conv1 (Conv2D)        (None, 14, 14, 512)       2359808   \n",
      "_________________________________________________________________\n",
      "block5_conv2 (Conv2D)        (None, 14, 14, 512)       2359808   \n",
      "_________________________________________________________________\n",
      "block5_conv3 (Conv2D)        (None, 14, 14, 512)       2359808   \n",
      "_________________________________________________________________\n",
      "block5_pool (MaxPooling2D)   (None, 7, 7, 512)         0         \n",
      "=================================================================\n",
      "Total params: 14,714,688\n",
      "Trainable params: 0\n",
      "Non-trainable params: 14,714,688\n",
      "_________________________________________________________________\n"
     ]
    }
   ],
   "source": [
    "vgg = VGG16(input_shape=(default_size), weights='imagenet', include_top=False)\n",
    "\n",
    "#congela las capas del modelo original salvo la ultima\n",
    "for layer in vgg.layers:\n",
    "    layer.trainable = False\n",
    "\n",
    "vgg.summary()\n"
   ]
  },
  {
   "cell_type": "code",
   "execution_count": 14,
   "metadata": {},
   "outputs": [
    {
     "name": "stdout",
     "output_type": "stream",
     "text": [
      "Model: \"model\"\n",
      "_________________________________________________________________\n",
      "Layer (type)                 Output Shape              Param #   \n",
      "=================================================================\n",
      "input_1 (InputLayer)         [(None, 224, 224, 3)]     0         \n",
      "_________________________________________________________________\n",
      "block1_conv1 (Conv2D)        (None, 224, 224, 64)      1792      \n",
      "_________________________________________________________________\n",
      "block1_conv2 (Conv2D)        (None, 224, 224, 64)      36928     \n",
      "_________________________________________________________________\n",
      "block1_pool (MaxPooling2D)   (None, 112, 112, 64)      0         \n",
      "_________________________________________________________________\n",
      "block2_conv1 (Conv2D)        (None, 112, 112, 128)     73856     \n",
      "_________________________________________________________________\n",
      "block2_conv2 (Conv2D)        (None, 112, 112, 128)     147584    \n",
      "_________________________________________________________________\n",
      "block2_pool (MaxPooling2D)   (None, 56, 56, 128)       0         \n",
      "_________________________________________________________________\n",
      "block3_conv1 (Conv2D)        (None, 56, 56, 256)       295168    \n",
      "_________________________________________________________________\n",
      "block3_conv2 (Conv2D)        (None, 56, 56, 256)       590080    \n",
      "_________________________________________________________________\n",
      "block3_conv3 (Conv2D)        (None, 56, 56, 256)       590080    \n",
      "_________________________________________________________________\n",
      "block3_pool (MaxPooling2D)   (None, 28, 28, 256)       0         \n",
      "_________________________________________________________________\n",
      "block4_conv1 (Conv2D)        (None, 28, 28, 512)       1180160   \n",
      "_________________________________________________________________\n",
      "block4_conv2 (Conv2D)        (None, 28, 28, 512)       2359808   \n",
      "_________________________________________________________________\n",
      "block4_conv3 (Conv2D)        (None, 28, 28, 512)       2359808   \n",
      "_________________________________________________________________\n",
      "block4_pool (MaxPooling2D)   (None, 14, 14, 512)       0         \n",
      "_________________________________________________________________\n",
      "block5_conv1 (Conv2D)        (None, 14, 14, 512)       2359808   \n",
      "_________________________________________________________________\n",
      "block5_conv2 (Conv2D)        (None, 14, 14, 512)       2359808   \n",
      "_________________________________________________________________\n",
      "block5_conv3 (Conv2D)        (None, 14, 14, 512)       2359808   \n",
      "_________________________________________________________________\n",
      "block5_pool (MaxPooling2D)   (None, 7, 7, 512)         0         \n",
      "_________________________________________________________________\n",
      "conv2d (Conv2D)              (None, 5, 5, 256)         1179904   \n",
      "_________________________________________________________________\n",
      "max_pooling2d (MaxPooling2D) (None, 2, 2, 256)         0         \n",
      "_________________________________________________________________\n",
      "flatten (Flatten)            (None, 1024)              0         \n",
      "_________________________________________________________________\n",
      "dense (Dense)                (None, 512)               524800    \n",
      "_________________________________________________________________\n",
      "dropout (Dropout)            (None, 512)               0         \n",
      "_________________________________________________________________\n",
      "dense_1 (Dense)              (None, 256)               131328    \n",
      "_________________________________________________________________\n",
      "dense_2 (Dense)              (None, 5)                 1285      \n",
      "=================================================================\n",
      "Total params: 16,552,005\n",
      "Trainable params: 1,837,317\n",
      "Non-trainable params: 14,714,688\n",
      "_________________________________________________________________\n"
     ]
    }
   ],
   "source": [
    "# retocar estas ultimas capas segun la cantidad de personas a identificar y la salida de (7,7,512)\n",
    "# afinar las ultimas capas densas fully connected segun cantidad de ids\n",
    "\n",
    "c1 = Conv2D(256, (3,3), activation='relu')(vgg.output)\n",
    "#c2 = Conv2D(64, (3,3), activation='relu')(c1)\n",
    "p1 = MaxPooling2D(2,2)(c1)\n",
    "\n",
    "f = Flatten()(p1) \n",
    "\n",
    "d1 = Dense(512, activation='relu', kernel_regularizer=regularizers.l2(0.01))(f) \n",
    "\n",
    "dr = Dropout(0.25)(d1)\n",
    "\n",
    "d2 = Dense(256, activation='relu')(dr)\n",
    "\n",
    "#jugar con los parametros de estas ultimas capas\n",
    "out = Dense(cant_ids, activation='softmax')(d2) \n",
    "\n",
    "\n",
    "\n",
    "model = Model(outputs=out, inputs=vgg.input) \n",
    "    \n",
    "model.summary()\n"
   ]
  },
  {
   "cell_type": "markdown",
   "metadata": {},
   "source": [
    "## Compilacion y entrenamiento"
   ]
  },
  {
   "cell_type": "code",
   "execution_count": 15,
   "metadata": {},
   "outputs": [],
   "source": [
    "model.compile(loss='categorical_crossentropy',\n",
    "              optimizer='adam',\n",
    "              metrics=['accuracy'])\n",
    "\n",
    "\n",
    "es = EarlyStopping(monitor='val_loss', mode='min', verbose=1, patience=10)"
   ]
  },
  {
   "cell_type": "code",
   "execution_count": 16,
   "metadata": {},
   "outputs": [
    {
     "data": {
      "text/plain": [
       "'2.4.1'"
      ]
     },
     "execution_count": 16,
     "metadata": {},
     "output_type": "execute_result"
    }
   ],
   "source": [
    "import tensorflow\n",
    "\n",
    "tensorflow.__version__\n"
   ]
  },
  {
   "cell_type": "code",
   "execution_count": 17,
   "metadata": {},
   "outputs": [
    {
     "name": "stderr",
     "output_type": "stream",
     "text": [
      "/home/andres/anaconda3/envs/envDeepLearning/lib/python3.8/site-packages/tensorflow/python/keras/engine/training.py:1844: UserWarning: `Model.fit_generator` is deprecated and will be removed in a future version. Please use `Model.fit`, which supports generators.\n",
      "  warnings.warn('`Model.fit_generator` is deprecated and '\n"
     ]
    },
    {
     "name": "stdout",
     "output_type": "stream",
     "text": [
      "Epoch 1/20\n",
      "58/58 [==============================] - 422s 7s/step - loss: 6.0972 - accuracy: 0.5373 - val_loss: 2.1706 - val_accuracy: 0.7947\n",
      "Epoch 2/20\n",
      "58/58 [==============================] - 441s 8s/step - loss: 1.7079 - accuracy: 0.8817 - val_loss: 1.1243 - val_accuracy: 0.9404\n",
      "Epoch 3/20\n",
      "58/58 [==============================] - 441s 8s/step - loss: 0.9395 - accuracy: 0.9631 - val_loss: 0.8433 - val_accuracy: 0.9073\n",
      "Epoch 4/20\n",
      "58/58 [==============================] - 441s 8s/step - loss: 0.6408 - accuracy: 0.9700 - val_loss: 0.6428 - val_accuracy: 0.9404\n",
      "Epoch 5/20\n",
      "58/58 [==============================] - 440s 8s/step - loss: 0.4352 - accuracy: 0.9785 - val_loss: 0.4381 - val_accuracy: 0.9404\n",
      "Epoch 6/20\n",
      "58/58 [==============================] - 440s 8s/step - loss: 0.2951 - accuracy: 0.9947 - val_loss: 0.3176 - val_accuracy: 0.9735\n",
      "Epoch 7/20\n",
      "58/58 [==============================] - 441s 8s/step - loss: 0.3197 - accuracy: 0.9496 - val_loss: 0.5415 - val_accuracy: 0.9007\n",
      "Epoch 8/20\n",
      "58/58 [==============================] - 441s 8s/step - loss: 0.1979 - accuracy: 0.9911 - val_loss: 0.2931 - val_accuracy: 0.9404\n",
      "Epoch 9/20\n",
      "58/58 [==============================] - 443s 8s/step - loss: 0.1411 - accuracy: 1.0000 - val_loss: 0.3098 - val_accuracy: 0.9272\n",
      "Epoch 10/20\n",
      "58/58 [==============================] - 442s 8s/step - loss: 0.1164 - accuracy: 0.9970 - val_loss: 0.2251 - val_accuracy: 0.9470\n",
      "Epoch 11/20\n",
      "58/58 [==============================] - 441s 8s/step - loss: 0.1192 - accuracy: 0.9916 - val_loss: 0.3484 - val_accuracy: 0.8940\n",
      "Epoch 12/20\n",
      "58/58 [==============================] - 443s 8s/step - loss: 0.0821 - accuracy: 1.0000 - val_loss: 0.3590 - val_accuracy: 0.9073\n",
      "Epoch 13/20\n",
      "58/58 [==============================] - 442s 8s/step - loss: 0.0701 - accuracy: 0.9962 - val_loss: 0.2905 - val_accuracy: 0.9007\n",
      "Epoch 14/20\n",
      "58/58 [==============================] - 441s 8s/step - loss: 0.1600 - accuracy: 0.9540 - val_loss: 0.2330 - val_accuracy: 0.9603\n",
      "Epoch 15/20\n",
      "58/58 [==============================] - 443s 8s/step - loss: 0.1432 - accuracy: 0.9836 - val_loss: 0.3374 - val_accuracy: 0.9139\n",
      "Epoch 16/20\n",
      "58/58 [==============================] - 442s 8s/step - loss: 0.1149 - accuracy: 0.9969 - val_loss: 0.3417 - val_accuracy: 0.9139\n",
      "Epoch 17/20\n",
      "58/58 [==============================] - 446s 8s/step - loss: 0.1637 - accuracy: 0.9716 - val_loss: 0.5278 - val_accuracy: 0.8344\n",
      "Epoch 18/20\n",
      "58/58 [==============================] - 601s 10s/step - loss: 0.1137 - accuracy: 0.9846 - val_loss: 0.2870 - val_accuracy: 0.9007\n",
      "Epoch 19/20\n",
      "58/58 [==============================] - 490s 8s/step - loss: 0.0786 - accuracy: 0.9954 - val_loss: 0.3059 - val_accuracy: 0.8940\n",
      "Epoch 20/20\n",
      "58/58 [==============================] - 447s 8s/step - loss: 0.0652 - accuracy: 0.9983 - val_loss: 0.1761 - val_accuracy: 0.9404\n"
     ]
    },
    {
     "name": "stderr",
     "output_type": "stream",
     "text": [
      "/home/andres/anaconda3/envs/envDeepLearning/lib/python3.8/site-packages/tensorflow/python/keras/engine/training.py:1877: UserWarning: `Model.evaluate_generator` is deprecated and will be removed in a future version. Please use `Model.evaluate`, which supports generators.\n",
      "  warnings.warn('`Model.evaluate_generator` is deprecated and '\n"
     ]
    },
    {
     "data": {
      "text/plain": [
       "[0.22026246786117554, 0.9271523356437683]"
      ]
     },
     "execution_count": 17,
     "metadata": {},
     "output_type": "execute_result"
    }
   ],
   "source": [
    "h = model.fit_generator(generator=training_generator,\n",
    "                        validation_data=validation_generator,\n",
    "                        #epochs=15,\n",
    "                        epochs=20,\n",
    "                        steps_per_epoch=len(training_generator),\n",
    "                        validation_steps=len(validation_generator),\n",
    "                        callbacks=[es],\n",
    "                        workers=4)\n",
    "\n",
    "\n",
    "# hacer un modulo que entrene con gpu!\n",
    "# VER COMO ENTRENAR EN PARALELO! gpu o worwers=4?\n",
    "\n",
    "model.evaluate_generator(generator=validation_generator,\n",
    "                         steps=len(validation_generator))\n",
    "\n"
   ]
  },
  {
   "cell_type": "markdown",
   "metadata": {},
   "source": [
    "\n",
    "PRUEBAS\n",
    " \n",
    "\n",
    "Precision buena, de .97 \n",
    "\n",
    "Perdida considerable, de .16\n",
    "\n",
    "Hay undefitting \n",
    "\n",
    "&nbsp;\n",
    "\n",
    "Aclaracion: Independientemente de la plataforma de entrenamiento (jupyter notebook o desde la ejecucion local del script) , los resultados de precision son buenos, de entre 0.95 y 0.98\n",
    "&nbsp;\n",
    "\n",
    "El problema se da en los resultados de perdida...\n",
    "&nbsp;\n",
    "\n",
    "El entrenamiento del modelo en el jupyter notebook presenta resultados de perdida altos, de entre 0.1 y 0.2\n",
    "Por eso es mejor entrenar desde el script entrenarModelo.py , el cual presenta resultados de perdida validos, de entre 0.03 y 0.1 "
   ]
  },
  {
   "cell_type": "code",
   "execution_count": 18,
   "metadata": {},
   "outputs": [
    {
     "data": {
      "image/png": "[encoded data removed]",
      "text/plain": [
       "<Figure size 432x288 with 1 Axes>"
      ]
     },
     "metadata": {
      "needs_background": "light"
     },
     "output_type": "display_data"
    },
    {
     "data": {
      "image/png": "[encoded data removed]",
      "text/plain": [
       "<Figure size 432x288 with 1 Axes>"
      ]
     },
     "metadata": {
      "needs_background": "light"
     },
     "output_type": "display_data"
    }
   ],
   "source": [
    "import matplotlib.pyplot as plt\n",
    "\n",
    "plt.plot(h.history['accuracy'])\n",
    "plt.plot(h.history['val_accuracy'])\n",
    "plt.title('Model accuracy')\n",
    "plt.ylabel('Accuracy')\n",
    "plt.xlabel('Epoch')\n",
    "plt.legend(['Train', 'Test'], loc='upper left')\n",
    "plt.show()\n",
    "\n",
    "# Plot training & validation loss values\n",
    "plt.plot(h.history['loss'])\n",
    "plt.plot(h.history['val_loss'])\n",
    "plt.title('Model loss')\n",
    "plt.ylabel('Loss')\n",
    "plt.xlabel('Epoch')\n",
    "plt.legend(['Train', 'Test'], loc='upper left')\n",
    "plt.show()"
   ]
  },
  {
   "cell_type": "markdown",
   "metadata": {},
   "source": [
    "# Test del Modelo"
   ]
  },
  {
   "cell_type": "markdown",
   "metadata": {},
   "source": [
    "Para testear el modelo es posible utilizar el modelo recientemente entrenado; o un modelo previamente guardado.\n",
    "\n",
    "\n",
    "Si los resultados son buenos, puedo hacer las predicciones desde el modelo recien entrenado.\n",
    "\n",
    "Si no, es posible cargar el modelo desde disco.\n"
   ]
  },
  {
   "cell_type": "code",
   "execution_count": 11,
   "metadata": {},
   "outputs": [],
   "source": [
    "from keras.models import load_model\n",
    "\n",
    "\n",
    "\n",
    "#model.save('reconocimientoFacial_tf2.h5')\n",
    "\n",
    "#def cargar_modelo():\n",
    "#modelo_cargado = load_model('faceRecognition_model.h5')#NOMBRE_MODELO\n",
    "#    return model\n",
    "\n"
   ]
  },
  {
   "cell_type": "code",
   "execution_count": 19,
   "metadata": {},
   "outputs": [],
   "source": [
    "#elijo usar modelo recien entrenado (en RAM) o usar el modelo guardado en disco ??\n",
    "\n",
    "\n",
    "#modelo = load_model('reconocimientoFacial.h5')\n",
    "\n",
    "modelo = model"
   ]
  },
  {
   "cell_type": "code",
   "execution_count": 20,
   "metadata": {},
   "outputs": [
    {
     "name": "stdout",
     "output_type": "stream",
     "text": [
      "Requirement already satisfied: visualkeras in /home/andres/anaconda3/envs/envDeepLearning/lib/python3.8/site-packages (0.0.1)\r\n",
      "Requirement already satisfied: pillow>=6.2.0 in /home/andres/anaconda3/envs/envDeepLearning/lib/python3.8/site-packages (from visualkeras) (8.1.1)\r\n"
     ]
    }
   ],
   "source": [
    "!pip install visualkeras"
   ]
  },
  {
   "cell_type": "code",
   "execution_count": 21,
   "metadata": {},
   "outputs": [],
   "source": [
    "import visualkeras\n",
    "\n",
    "#visualkeras.layered_view(modelo)\n",
    "visualkeras.layered_view(modelo, to_file='vgg16.png').show() # write and show\n",
    "#visualkeras.layered_view(modelo, legend=True) #, font=font)  # font is optional!\n",
    "#visualkeras.layered_view(model, type_ignore=[ZeroPadding2D, Dropout, Flatten])"
   ]
  },
  {
   "cell_type": "markdown",
   "metadata": {},
   "source": [
    "## Predicciones estaticas\n",
    "\n",
    "\n",
    "Del disco al programa, en formato .jpg"
   ]
  },
  {
   "cell_type": "code",
   "execution_count": 14,
   "metadata": {},
   "outputs": [],
   "source": [
    "from keras.preprocessing import image\n",
    "from keras.applications.vgg16 import preprocess_input\n",
    "\n",
    "# https://github.com/keras-team/keras-applications/blob/master/keras_applications/imagenet_utils.py\n",
    "\n",
    "#convert the images from RGB to BGR, then will zero-center each color channel with\n",
    "#respect to the ImageNet dataset, without scaling.\n"
   ]
  },
  {
   "cell_type": "code",
   "execution_count": 15,
   "metadata": {},
   "outputs": [
    {
     "name": "stdout",
     "output_type": "stream",
     "text": [
      "<PIL.Image.Image image mode=RGB size=224x224 at 0x1494531D0>\n",
      "float32\n",
      "[[1.0000000e+00 1.6545037e-32 1.1565375e-32 2.5648252e-31 2.1980701e-28]]\n"
     ]
    },
    {
     "data": {
      "text/plain": [
       "'Andres'"
      ]
     },
     "execution_count": 15,
     "metadata": {},
     "output_type": "execute_result"
    }
   ],
   "source": [
    "im = '/Users/andresmanzalini/Documents/Andres_Prueba.jpg'\n",
    "\n",
    "img = image.load_img(im, target_size=(224, 224))   #MAL!! el modelo o la prediccion?\n",
    "print(img)\n",
    "x = image.img_to_array(img)\n",
    "print(x.dtype)\n",
    "x = np.expand_dims(x, axis=0)\n",
    "#print('x expandida ',x)\n",
    "x = preprocess_input(x)     #RARO. esto parece que esta mal! que hace con la imagen?\n",
    "#print('x preprocess ', x)  #wat?\n",
    "prediccion = model.predict(x)\n",
    "print(prediccion)\n",
    "pred = np.argmax(prediccion) \n",
    "pred\n",
    "tags[pred]\n"
   ]
  },
  {
   "cell_type": "code",
   "execution_count": 16,
   "metadata": {},
   "outputs": [
    {
     "name": "stdout",
     "output_type": "stream",
     "text": [
      "predicciones  [1.0000000e+00 1.6545037e-32 1.1565375e-32 2.5648252e-31 2.1980701e-28]\n",
      "etiqueta  Andres\n",
      "prediccion: 1.000\n"
     ]
    }
   ],
   "source": [
    "preds = prediccion[0][:]\n",
    "print('predicciones ',preds)\n",
    "print('etiqueta ',tags[pred])\n",
    "print(\"prediccion: {0:.3f}\". format(preds[pred]))\n"
   ]
  },
  {
   "cell_type": "markdown",
   "metadata": {},
   "source": [
    "## Predicciones por webcam\n",
    "\n",
    "Usa opencv y dlib.\n",
    "\n",
    "Tener en cuenta que las imagenes del dataset tienen el formato RGB, predefinido por dlib al alinear las caras con chip_align(face), de la libreria PIL.\n",
    "\n",
    "Por eso hay que ser consistentes con el formato de salida de la camara web, para entrenar y predecir con los mismos formatos y tipos de datos.\n",
    "\n"
   ]
  },
  {
   "cell_type": "code",
   "execution_count": 23,
   "metadata": {},
   "outputs": [],
   "source": [
    "# ejecutar a partir de aca!\n"
   ]
  },
  {
   "cell_type": "code",
   "execution_count": 22,
   "metadata": {},
   "outputs": [],
   "source": [
    "#OpenCV\n",
    "data_path_cv2 = cv2.__path__[0]+'/data/'\n",
    "haar_type = 'haarcascade_frontalface_default.xml'\n",
    "\n",
    "video = cv2.VideoCapture(0)\n",
    "face_cascada = cv2.CascadeClassifier(data_path_cv2+haar_type)\n",
    "\n",
    "\n",
    "#DLIB\n",
    "path_DLIBmodel = os.path.dirname(os.getcwd())+'/shape_predictor_68_face_landmarks.dat'\n",
    "land_detector = dlib.get_frontal_face_detector()\n",
    "predictor = dlib.shape_predictor(path_DLIBmodel)\n",
    "\n"
   ]
  },
  {
   "cell_type": "code",
   "execution_count": 23,
   "metadata": {},
   "outputs": [
    {
     "name": "stdout",
     "output_type": "stream",
     "text": [
      "Ma: : [0.9761529]\n",
      "Ma: : [0.966515]\n",
      "Ma: : [0.9630064]\n",
      "Ma: : [0.9673304]\n",
      "Ma: : [0.93011206]\n",
      "Andres: : [0.9997365]\n",
      "Andres: : [0.99989474]\n",
      "Andres: : [0.9995871]\n",
      "Andres: : [0.999908]\n",
      "Andres: : [0.99979025]\n",
      "Andres: : [0.99991715]\n",
      "Andres: : [0.9998454]\n",
      "Andres: : [0.9999331]\n",
      "Andres: : [0.9996718]\n",
      "Andres: : [0.9997564]\n",
      "Andres: : [0.99979895]\n",
      "Andres: : [0.99594057]\n",
      "Andres: : [0.97243506]\n",
      "Andres: : [0.99741155]\n",
      "Andres: : [0.99664813]\n",
      "Andres: : [0.99862635]\n",
      "Andres: : [0.98796785]\n",
      "Andres: : [0.9024555]\n",
      "Andres: : [0.9896152]\n",
      "Andres: : [0.98540086]\n",
      "Andres: : [0.98913515]\n"
     ]
    }
   ],
   "source": [
    "seguir = True\n",
    "while seguir:\n",
    "    ret, frame = video.read()\n",
    "    #gris = cv2.cvtColor(frame, cv2.COLOR_BGR2GRAY)\n",
    "    frameRGB = cv2.cvtColor(frame, cv2.COLOR_BGR2RGB) #sobreescribo formato de salida de GBR a RGB \n",
    "    gris = cv2.cvtColor(frameRGB, cv2.COLOR_RGB2GRAY)\n",
    "    \n",
    "    key = cv2.waitKey(1) \n",
    "\n",
    "    caras_dlib = land_detector(gris,1)\n",
    "\n",
    "    for cara in caras_dlib:\n",
    "        x = cara.left()\n",
    "        y = cara.top()\n",
    "        w = cara.right() - x\n",
    "        h = cara.bottom() - y\n",
    "        \n",
    "        landmarks = predictor(gris, cara)\n",
    "        face_aligned = dlib.get_face_chip(frame, landmarks, 224)\n",
    "        \n",
    "        face_aligned_32 = np.asarray(face_aligned, dtype='float32') \n",
    "        #print('face aligned 32 ', face_aligned_32)\n",
    "        im_expand = np.expand_dims(face_aligned_32, axis=0) \n",
    "        #print('expand ', im_expand.shape)\n",
    "        im_normalizada = (im_expand - np.min(im_expand)) / (np.max(im_expand) - np.min(im_expand))\n",
    "        #normalizando predice probabilidades!\n",
    "        \n",
    "        prediccion = modelo.predict(im_normalizada)\n",
    "        \n",
    "        pred = np.argmax(prediccion)\n",
    "        proba = prediccion[:,pred]\n",
    "        tag = tags[pred]+\": \"\n",
    "\n",
    "        \n",
    "        if proba > .7: # & reconoce al mismo id durante 2s\n",
    "            print('{}: {}'.format(tag, proba))\n",
    "            cv2.putText(frame, tag+str(proba), (x,y), cv2.FONT_HERSHEY_SIMPLEX, 1, (0, 255, 0), 2)\n",
    "        \n",
    "        cv2.rectangle(frame, (x,y), (cara.right(),cara.bottom()), (0,255,0), 3)\n",
    "        \n",
    "        for n in range(0,68):\n",
    "            x = landmarks.part(n).x\n",
    "            y = landmarks.part(n).y\n",
    "            cv2.circle(frame, (x,y), 3, (255,0,0))\n",
    "\n",
    "        cv2.imshow('Cara alineada', face_aligned)\n",
    "\n",
    "\n",
    "    cv2.imshow('Frame',frame)\n",
    "    \n",
    "    if key == ord ('q'):\n",
    "        seguir=False\n",
    "        \n",
    "\n",
    "video.release()\n",
    "cv2.destroyAllWindows()"
   ]
  },
  {
   "cell_type": "code",
   "execution_count": 29,
   "metadata": {},
   "outputs": [],
   "source": [
    "video.release()\n",
    "cv2.destroyAllWindows()"
   ]
  },
  {
   "cell_type": "code",
   "execution_count": 23,
   "metadata": {},
   "outputs": [],
   "source": []
  },
  {
   "cell_type": "code",
   "execution_count": null,
   "metadata": {},
   "outputs": [],
   "source": [
    "# Guardar modelo???\n",
    "\n",
    "#def guardar_modelo(modelo):\n",
    "#    modelo.save('./faceRecognition_model.h5')  # creates a HDF5 file 'my_model.h5'\n",
    "#    del modelo\n"
   ]
  },
  {
   "cell_type": "code",
   "execution_count": null,
   "metadata": {},
   "outputs": [],
   "source": []
  },
  {
   "cell_type": "markdown",
   "metadata": {},
   "source": [
    "# Conclusion\n"
   ]
  },
  {
   "cell_type": "markdown",
   "metadata": {},
   "source": [
    "El procesamiento de imagenes esta hecho con openCV. Esta libreria provee la funcionalidad para obtener imagenes y procesarlas. Permite jugar con los filtros y transformaciones geometricas.\n",
    "\n",
    "\n",
    "El reconocimiento facial esta hecho con haarcascade y con el modelo preentrenado de la libreria dlib,  *shape_predictor_68_face_landmarks.dat*\n",
    "\n",
    "\n",
    "Respecto al Deep Learning, el modelo VGG16 es bueno para el reconocimiento facial, ya que fue entrenado para extraer carecteristicas mas generales de las imagenes. \n",
    "\n",
    "La clave para la precision esta en la combinacion entre la deteccion de expresiones faciales (modelo preentrenado facial_landmarks_68), y el modelo preentrenado de Keras, VGG16 \n",
    "\n",
    "\n",
    "Los resultados son bastante precisos a pesar de la poca informacion de prueba.\n"
   ]
  },
  {
   "cell_type": "markdown",
   "metadata": {},
   "source": [
    "# En desarrollo..."
   ]
  },
  {
   "cell_type": "markdown",
   "metadata": {},
   "source": [
    "## Redes siamesas \n",
    "\n",
    "\n",
    "One-shot learning\n",
    "\n",
    "Comparo imagenes del mismo subconjunto y calculo el triplet loss"
   ]
  },
  {
   "cell_type": "code",
   "execution_count": 39,
   "metadata": {},
   "outputs": [],
   "source": [
    "#from tensorflow.keras import Lambda\n",
    "import tensorflow.keras.backend as K\n",
    "from keras.layers import Input\n"
   ]
  },
  {
   "cell_type": "code",
   "execution_count": 69,
   "metadata": {},
   "outputs": [
    {
     "name": "stdout",
     "output_type": "stream",
     "text": [
      "_________________________________________________________________\n",
      "Layer (type)                 Output Shape              Param #   \n",
      "=================================================================\n",
      "input_21 (InputLayer)        (None, 224, 224, 3)       0         \n",
      "_________________________________________________________________\n",
      "block1_conv1 (Conv2D)        (None, 224, 224, 64)      1792      \n",
      "_________________________________________________________________\n",
      "block1_conv2 (Conv2D)        (None, 224, 224, 64)      36928     \n",
      "_________________________________________________________________\n",
      "block1_pool (MaxPooling2D)   (None, 112, 112, 64)      0         \n",
      "_________________________________________________________________\n",
      "block2_conv1 (Conv2D)        (None, 112, 112, 128)     73856     \n",
      "_________________________________________________________________\n",
      "block2_conv2 (Conv2D)        (None, 112, 112, 128)     147584    \n",
      "_________________________________________________________________\n",
      "block2_pool (MaxPooling2D)   (None, 56, 56, 128)       0         \n",
      "_________________________________________________________________\n",
      "block3_conv1 (Conv2D)        (None, 56, 56, 256)       295168    \n",
      "_________________________________________________________________\n",
      "block3_conv2 (Conv2D)        (None, 56, 56, 256)       590080    \n",
      "_________________________________________________________________\n",
      "block3_conv3 (Conv2D)        (None, 56, 56, 256)       590080    \n",
      "_________________________________________________________________\n",
      "block3_pool (MaxPooling2D)   (None, 28, 28, 256)       0         \n",
      "_________________________________________________________________\n",
      "block4_conv1 (Conv2D)        (None, 28, 28, 512)       1180160   \n",
      "_________________________________________________________________\n",
      "block4_conv2 (Conv2D)        (None, 28, 28, 512)       2359808   \n",
      "_________________________________________________________________\n",
      "block4_conv3 (Conv2D)        (None, 28, 28, 512)       2359808   \n",
      "_________________________________________________________________\n",
      "block4_pool (MaxPooling2D)   (None, 14, 14, 512)       0         \n",
      "_________________________________________________________________\n",
      "block5_conv1 (Conv2D)        (None, 14, 14, 512)       2359808   \n",
      "_________________________________________________________________\n",
      "block5_conv2 (Conv2D)        (None, 14, 14, 512)       2359808   \n",
      "_________________________________________________________________\n",
      "block5_conv3 (Conv2D)        (None, 14, 14, 512)       2359808   \n",
      "_________________________________________________________________\n",
      "block5_pool (MaxPooling2D)   (None, 7, 7, 512)         0         \n",
      "=================================================================\n",
      "Total params: 14,714,688\n",
      "Trainable params: 0\n",
      "Non-trainable params: 14,714,688\n",
      "_________________________________________________________________\n"
     ]
    }
   ],
   "source": [
    "#uso de triplet loss.\n",
    "#compara de a 3 medidas a la vez, y se va aproximando al positivo a medida que entrena el algoritmo\n",
    "\n",
    "vgg = VGG16(input_shape=(default_size), weights='imagenet', include_top=False)#, classes=3)\n",
    "\n",
    "#vgg.summary()\n",
    "for layer in vgg.layers:\n",
    "    layer.trainable = False\n",
    "\n",
    "\n",
    "vgg.summary()"
   ]
  },
  {
   "cell_type": "code",
   "execution_count": 70,
   "metadata": {},
   "outputs": [],
   "source": [
    "f = Flatten()(vgg.output) #aplano vgg con sus respectivos pesos definidos en imagenet\n",
    "\n",
    "x = BatchNormalization()(f)\n",
    "\n",
    "d = Dropout(0.2)(x)\n",
    "\n",
    "#kernel_regularizer=regularizers.l2(0.01), activity_regularizer=regularizers.l1(0.01))\n",
    "out = Dense(4, activation='softmax')(d)\n"
   ]
  },
  {
   "cell_type": "code",
   "execution_count": 71,
   "metadata": {},
   "outputs": [
    {
     "name": "stdout",
     "output_type": "stream",
     "text": [
      "_________________________________________________________________\n",
      "Layer (type)                 Output Shape              Param #   \n",
      "=================================================================\n",
      "input_21 (InputLayer)        (None, 224, 224, 3)       0         \n",
      "_________________________________________________________________\n",
      "block1_conv1 (Conv2D)        (None, 224, 224, 64)      1792      \n",
      "_________________________________________________________________\n",
      "block1_conv2 (Conv2D)        (None, 224, 224, 64)      36928     \n",
      "_________________________________________________________________\n",
      "block1_pool (MaxPooling2D)   (None, 112, 112, 64)      0         \n",
      "_________________________________________________________________\n",
      "block2_conv1 (Conv2D)        (None, 112, 112, 128)     73856     \n",
      "_________________________________________________________________\n",
      "block2_conv2 (Conv2D)        (None, 112, 112, 128)     147584    \n",
      "_________________________________________________________________\n",
      "block2_pool (MaxPooling2D)   (None, 56, 56, 128)       0         \n",
      "_________________________________________________________________\n",
      "block3_conv1 (Conv2D)        (None, 56, 56, 256)       295168    \n",
      "_________________________________________________________________\n",
      "block3_conv2 (Conv2D)        (None, 56, 56, 256)       590080    \n",
      "_________________________________________________________________\n",
      "block3_conv3 (Conv2D)        (None, 56, 56, 256)       590080    \n",
      "_________________________________________________________________\n",
      "block3_pool (MaxPooling2D)   (None, 28, 28, 256)       0         \n",
      "_________________________________________________________________\n",
      "block4_conv1 (Conv2D)        (None, 28, 28, 512)       1180160   \n",
      "_________________________________________________________________\n",
      "block4_conv2 (Conv2D)        (None, 28, 28, 512)       2359808   \n",
      "_________________________________________________________________\n",
      "block4_conv3 (Conv2D)        (None, 28, 28, 512)       2359808   \n",
      "_________________________________________________________________\n",
      "block4_pool (MaxPooling2D)   (None, 14, 14, 512)       0         \n",
      "_________________________________________________________________\n",
      "block5_conv1 (Conv2D)        (None, 14, 14, 512)       2359808   \n",
      "_________________________________________________________________\n",
      "block5_conv2 (Conv2D)        (None, 14, 14, 512)       2359808   \n",
      "_________________________________________________________________\n",
      "block5_conv3 (Conv2D)        (None, 14, 14, 512)       2359808   \n",
      "_________________________________________________________________\n",
      "block5_pool (MaxPooling2D)   (None, 7, 7, 512)         0         \n",
      "_________________________________________________________________\n",
      "flatten_8 (Flatten)          (None, 25088)             0         \n",
      "_________________________________________________________________\n",
      "batch_normalization_7 (Batch (None, 25088)             100352    \n",
      "_________________________________________________________________\n",
      "dropout_7 (Dropout)          (None, 25088)             0         \n",
      "_________________________________________________________________\n",
      "dense_12 (Dense)             (None, 4)                 100356    \n",
      "=================================================================\n",
      "Total params: 14,915,396\n",
      "Trainable params: 150,532\n",
      "Non-trainable params: 14,764,864\n",
      "_________________________________________________________________\n"
     ]
    },
    {
     "name": "stderr",
     "output_type": "stream",
     "text": [
      "/Users/andresmanzalini/miniconda3/envs/envDeepLearning/lib/python3.7/site-packages/ipykernel_launcher.py:1: UserWarning: Update your `Model` call to the Keras 2 API: `Model(outputs=Tensor(\"de..., inputs=Tensor(\"in...)`\n",
      "  \"\"\"Entry point for launching an IPython kernel.\n"
     ]
    }
   ],
   "source": [
    "model = Model(input=vgg.input, outputs=out) #input model o vgg?\n",
    "\n",
    "model.summary()"
   ]
  },
  {
   "cell_type": "code",
   "execution_count": 106,
   "metadata": {},
   "outputs": [
    {
     "data": {
      "text/plain": [
       "<tf.Tensor 'vgg16_4/block5_pool/MaxPool:0' shape=(?, 7, 7, 512) dtype=float32>"
      ]
     },
     "execution_count": 106,
     "metadata": {},
     "output_type": "execute_result"
    }
   ],
   "source": [
    "#seq_model = tf.keras.Sequential(vgg)\n",
    "\n",
    "left_input = Input(shape=default_size)\n",
    "right_input = Input(shape=default_size)\n",
    "\n",
    "#model = Sequential()\n",
    "#left_output = model(left_input)\n",
    "right_output = vgg(right_input)\n",
    "left_output"
   ]
  },
  {
   "cell_type": "code",
   "execution_count": null,
   "metadata": {},
   "outputs": [],
   "source": []
  },
  {
   "cell_type": "code",
   "execution_count": 90,
   "metadata": {},
   "outputs": [],
   "source": [
    "distance_euclid = Lambda(lambda tensors : K.abs( tensors[0] - tensors[1] ))([left_output , right_output])"
   ]
  },
  {
   "cell_type": "code",
   "execution_count": 93,
   "metadata": {},
   "outputs": [],
   "source": [
    "outs = Dense(1 , activation='sigmoid')(distance_euclid)\n",
    "\n",
    "#model = Model(input=vgg.input, outputs=out) #input model o vgg?\n",
    "\n",
    "model = Model([left_input,right_input], outputs)\n",
    "model = Model(inputs=[left_input, right_input], outputs=outs)\n",
    "\n",
    "\n",
    "model.compile(loss='categorical_crossentropy',\n",
    "              optimizer='adam',\n",
    "              metrics=['accuracy'])\n"
   ]
  },
  {
   "cell_type": "code",
   "execution_count": 94,
   "metadata": {},
   "outputs": [
    {
     "name": "stdout",
     "output_type": "stream",
     "text": [
      "__________________________________________________________________________________________________\n",
      "Layer (type)                    Output Shape         Param #     Connected to                     \n",
      "==================================================================================================\n",
      "input_32 (InputLayer)           (None, 224, 224, 3)  0                                            \n",
      "__________________________________________________________________________________________________\n",
      "input_33 (InputLayer)           (None, 224, 224, 3)  0                                            \n",
      "__________________________________________________________________________________________________\n",
      "vgg16 (Model)                   (None, 7, 7, 512)    14714688    input_32[0][0]                   \n",
      "                                                                 input_33[0][0]                   \n",
      "__________________________________________________________________________________________________\n",
      "lambda_9 (Lambda)               (None, 7, 7, 512)    0           vgg16[1][0]                      \n",
      "                                                                 vgg16[2][0]                      \n",
      "__________________________________________________________________________________________________\n",
      "dense_18 (Dense)                (None, 7, 7, 1)      513         lambda_9[0][0]                   \n",
      "==================================================================================================\n",
      "Total params: 14,715,201\n",
      "Trainable params: 513\n",
      "Non-trainable params: 14,714,688\n",
      "__________________________________________________________________________________________________\n"
     ]
    }
   ],
   "source": [
    "model.summary()"
   ]
  },
  {
   "cell_type": "code",
   "execution_count": 74,
   "metadata": {},
   "outputs": [],
   "source": [
    "# articulos sobre redes neuronales siamesas\n",
    "\n",
    "# https://medium.com/predict/face-recognition-from-scratch-using-siamese-networks-and-tensorflow-df03e32f8cd0\n",
    "\n",
    "# https://www.codeproject.com/Articles/1253224/Keras-Implementation-of-Siamese-like-Networks\n",
    "\n",
    "# https://towardsdatascience.com/one-shot-learning-with-siamese-networks-using-keras-17f34e75bb3d"
   ]
  },
  {
   "cell_type": "code",
   "execution_count": null,
   "metadata": {},
   "outputs": [],
   "source": []
  },
  {
   "cell_type": "markdown",
   "metadata": {},
   "source": [
    "## FaceNet"
   ]
  },
  {
   "cell_type": "code",
   "execution_count": null,
   "metadata": {},
   "outputs": [],
   "source": [
    "# https://arxiv.org/pdf/1503.03832.pdf\n",
    "\n",
    "# https://spanish.agatetepe.com.br/hacer-su-propio-sistema-de-reconocimiento-de-rostros/"
   ]
  },
  {
   "cell_type": "code",
   "execution_count": null,
   "metadata": {},
   "outputs": [],
   "source": []
  },
  {
   "cell_type": "code",
   "execution_count": null,
   "metadata": {},
   "outputs": [],
   "source": [
    "#el uso de vgg16 requiere la mencion del sgte paper \n",
    "# https://arxiv.org/abs/1409.1556"
   ]
  },
  {
   "cell_type": "markdown",
   "metadata": {},
   "source": [
    "# Trabajo futuro "
   ]
  },
  {
   "cell_type": "markdown",
   "metadata": {},
   "source": [
    "Respecto a los datos de entrenamiento y prueba, lo ideal seria hacer un script que cargue automaticamente los datasets cada vez que identifica (durante un minimo intervalo de tiempo) a una persona ya registrada en el dataset."
   ]
  },
  {
   "cell_type": "markdown",
   "metadata": {},
   "source": [
    "Tambien es importante implementar FaceNet con el mismo dataset, para el mismo problema y comprobar los resultado.\n",
    "Esto permite definir que tan bien predice una red neuronal convolucional simple (VGG16) comparado con LA red neuronal convolucional FaceNet "
   ]
  }
 ],
 "metadata": {
  "kernelspec": {
   "display_name": "Python 3",
   "language": "python",
   "name": "python3"
  },
  "language_info": {
   "codemirror_mode": {
    "name": "ipython",
    "version": 3
   },
   "file_extension": ".py",
   "mimetype": "text/x-python",
   "name": "python",
   "nbconvert_exporter": "python",
   "pygments_lexer": "ipython3",
   "version": "3.8.8"
  }
 },
 "nbformat": 4,
 "nbformat_minor": 2
}
